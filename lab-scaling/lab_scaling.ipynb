{
 "cells": [
  {
   "cell_type": "markdown",
   "id": "f9cd4888-f1be-4565-a0d3-b5033170ff72",
   "metadata": {},
   "source": [
    "# USCRP STONE: IG-SG Waves Lab Scaling"
   ]
  },
  {
   "cell_type": "code",
   "execution_count": 1,
   "id": "2cceb159-26ab-4a6f-aded-06936c2284fc",
   "metadata": {},
   "outputs": [],
   "source": [
    "import netCDF4 as nc4\n",
    "import pandas as pd\n",
    "import numpy as np\n",
    "import os\n",
    "import matplotlib.pyplot as plt\n",
    "import matplotlib.dates as mdates\n",
    "from datetime import datetime, timedelta, date\n",
    "import warnings\n",
    "import math"
   ]
  },
  {
   "cell_type": "markdown",
   "id": "0d059f6e-8ac1-4e2d-939f-6fb5fd502316",
   "metadata": {},
   "source": [
    "## Functions"
   ]
  },
  {
   "cell_type": "markdown",
   "id": "46a49628-abd1-4f76-8b6f-360fb6d13d44",
   "metadata": {},
   "source": [
    "Function to solve the dispersion relation (dispersi):"
   ]
  },
  {
   "cell_type": "code",
   "execution_count": 2,
   "id": "c6354262-b244-45ff-a817-1931fc5ec634",
   "metadata": {},
   "outputs": [],
   "source": [
    "def dispersi(const):\n",
    "    \"\"\"\n",
    "    Solve the linear dispersion relationship for surface gravity waves.\n",
    "\n",
    "    Input:\n",
    "        const = omega^2 * h / g, where:\n",
    "            omega = radian frequency,\n",
    "            h = water depth,\n",
    "            g = acceleration due to gravity.\n",
    "    Output:\n",
    "        kh = wavenumber times water depth.\n",
    "    Notes: Solves omega^2 * h / g = kh * tanh(kh) using Newton-Raphson iteration.\n",
    "    \n",
    "    Code to compute omega from frequency or period:\n",
    "          g = 9.81\n",
    "          omega = 2 * np.pi * f = 2 * np.pi / T\n",
    "          const = (omega ** 2) * h / g\n",
    "    Code to compute wavelength from kh:\n",
    "          k = kh / h\n",
    "          L = 2 * np.pi / k\n",
    "\n",
    "    Code modified by C.M.Baker on Oct 2024\n",
    "    \"\"\"\n",
    "\n",
    "    # Convert input to array, ensuring it's at least 1D\n",
    "    const = np.atleast_1d(const)\n",
    "\n",
    "    # Set negative values to NaN to avoid sqrt warning, assuming they are invalid\n",
    "    const = np.where(const < 0, np.nan, const)\n",
    "\n",
    "    # Initialize kh with zeros where const is zero, else with sqrt(const) as initial guess\n",
    "    kh = np.where(const == 0, 0, np.sqrt(const))\n",
    "\n",
    "    # Newton-Raphson iteration\n",
    "    tolerance = 1e-6\n",
    "    max_iterations = 100\n",
    "    for _ in range(max_iterations):\n",
    "        delta = (kh * np.tanh(kh) - const) / (np.tanh(kh) + kh / np.cosh(kh)**2)\n",
    "        kh -= delta\n",
    "        if np.all(np.abs(delta) < tolerance):\n",
    "            break\n",
    "\n",
    "    return kh"
   ]
  },
  {
   "cell_type": "markdown",
   "id": "5a5c2a82-8d0d-44c5-9199-12b4e5602e7f",
   "metadata": {},
   "source": [
    "Function to angular frequency and wavenumber (calc_omega_k):"
   ]
  },
  {
   "cell_type": "code",
   "execution_count": 3,
   "id": "7e248fdb-c12e-4883-8027-0b61aeccf1ca",
   "metadata": {},
   "outputs": [],
   "source": [
    "def calc_omega_k(f, h):\n",
    "    \"\"\" \n",
    "    f = frequency\n",
    "    h = water depth \n",
    "    \n",
    "    Example usage:\n",
    "    [omega, k] = calc_omega_k(frequency_value, water_depth_value)\n",
    "    \"\"\"\n",
    "    \n",
    "    # Constants\n",
    "    g = 9.81\n",
    "    \n",
    "    # Angular frequency calculation\n",
    "    omega = 2 * np.pi / (f ** (-1))\n",
    "    \n",
    "    # Constants calculation\n",
    "    cons = omega ** 2 * h / g\n",
    "    \n",
    "    # Call to dispersi function (assuming it's defined elsewhere)\n",
    "    kh = dispersi(cons)\n",
    "    \n",
    "    # Calculate k\n",
    "    k = kh / h\n",
    "    \n",
    "    return omega, float(k)"
   ]
  },
  {
   "cell_type": "markdown",
   "id": "954ea685-9d37-43c8-ab9b-b171c3dfedb9",
   "metadata": {},
   "source": [
    "Wave shoaling function"
   ]
  },
  {
   "cell_type": "code",
   "execution_count": 4,
   "id": "63346222-e756-479b-9e79-86e76e36c8d2",
   "metadata": {},
   "outputs": [],
   "source": [
    "def waveshoal_h_nonmono(T, H0, theta0, gamma, h):\n",
    "    \"\"\"\n",
    "    Code modified from M.Moulton on April 2, 2023\n",
    "    \"\"\"\n",
    "    \n",
    "    # Suppress RuntimeWarning\n",
    "    warnings.filterwarnings(\"ignore\", category=RuntimeWarning)\n",
    "\n",
    "    # Constants\n",
    "    g = 9.81  # m/s^2\n",
    "\n",
    "    # Calculate wavelengths in deep water at depths h\n",
    "\n",
    "    # Deep water wavelength:\n",
    "    Ldeep = g * T**2 / (2 * np.pi)\n",
    "\n",
    "    # Wavelength, Ole Madsen approx:\n",
    "    L = Ldeep * (1 - np.exp(-(2 * np.pi * h / Ldeep)**1.25))**0.4\n",
    "    \n",
    "\n",
    "    # Calculate group and phase speeds at depths h\n",
    "    c = L / T  # Phase speed\n",
    "    k = 2 * np.pi / L  # Wavenumber\n",
    "    cg = (L / (2 * T)) * (1 + 2 * (k) * h / np.sinh(2 * (k) * h))  # Group velocity\n",
    "\n",
    "    # Calculate group and phase speeds at depth h0\n",
    "    c0 = c[0]  # Phase speed at depth h0\n",
    "    cg0 = cg[0]  # Phase speed at depth h0\n",
    "\n",
    "    # Compute wave height and angle at depths h\n",
    "    theta = np.arcsin(c / c0 * np.sin(np.radians(theta0)))\n",
    "    H = H0 * np.sqrt(cg0 / cg) * np.sqrt(np.cos(np.abs(np.radians(theta0))) / np.cos(np.abs(np.radians(theta))))\n",
    "\n",
    "    # Calculate breaking variables\n",
    "    breaking_index = np.where(H / h > gamma)[0]\n",
    "    breaking_index = breaking_index[0]\n",
    "    breaking_depth = h[breaking_index]\n",
    "    breaking_height = H[breaking_index]\n",
    "    breaking_angle = np.degrees(theta[breaking_index])\n",
    "\n",
    "    # NaN values above shoreline\n",
    "    theta[h < 0] = np.nan\n",
    "    H[h < 0] = np.nan\n",
    "    L[h < 0] = np.nan\n",
    "    c[h < 0] = np.nan\n",
    "    cg[h < 0] = np.nan\n",
    "\n",
    "    # Store variables\n",
    "    wave = {'h': h,\n",
    "            'L': L,\n",
    "            'Ldeep': Ldeep,\n",
    "            'H': H,\n",
    "            'c': c,\n",
    "            'cg': cg,\n",
    "            'theta': np.degrees(theta),\n",
    "            'breaking_depth': breaking_depth,\n",
    "            'breaking_height': breaking_height,\n",
    "            'breaking_angle': breaking_angle,\n",
    "            'breaking_index': breaking_index}\n",
    "\n",
    "    # Compute profile onshore of breaking\n",
    "    H[breaking_index] = h[breaking_index] * gamma\n",
    "    binds = np.arange(breaking_index, len(h) - 1)\n",
    "\n",
    "    for ii in binds:\n",
    "        if h[ii + 1] < h[ii]:\n",
    "            # Depth-limited breaking\n",
    "            H[ii + 1] = h[ii + 1] * gamma\n",
    "        else:\n",
    "            # Re-shoaling)\n",
    "            h_2 = h[ii:]\n",
    "            H0_2 = H[ii]\n",
    "            theta0_2 = np.degrees(theta[ii])\n",
    "\n",
    "            wave_2 = waveshoal_subf(T, H0_2, theta0_2, gamma, h_2)\n",
    "\n",
    "            H_2 = wave_2['H']\n",
    "            theta_2 = wave_2['theta']\n",
    "            breaking_index2 = wave_2['breaking_index']\n",
    "\n",
    "            # Fill in values\n",
    "            H[ii:] = H_2\n",
    "            theta[ii:] = theta_2\n",
    "\n",
    "            # Second breaking region\n",
    "            H[ii + breaking_index2:] = h[ii + breaking_index2:] * gamma\n",
    "\n",
    "            break\n",
    "\n",
    "    # NaN values above shoreline\n",
    "    theta[h < 0] = np.nan\n",
    "    H[h < 0] = np.nan\n",
    "\n",
    "    wave['H'] = H\n",
    "    wave['theta'] = np.degrees(theta)\n",
    "    \n",
    "    # AReset the warnings\n",
    "    warnings.resetwarnings()\n",
    "\n",
    "    return wave\n",
    "\n",
    "def waveshoal_subf(T, H0, theta0, gamma, h):\n",
    "    # Constants\n",
    "    g = 9.81  # m/s^2\n",
    "\n",
    "    # Calculate wavelengths in deep water at depths h\n",
    "\n",
    "    # Deep water wavelength:\n",
    "    Ldeep = g * T**2 / (2 * np.pi)\n",
    "\n",
    "    # Wavelength, Ole Madsen approx:\n",
    "    L = Ldeep * (1 - np.exp(-(2 * np.pi * h / Ldeep)**1.25))**0.4\n",
    "\n",
    "    # Calculate group and phase speeds at depths h\n",
    "    c = L / T  # Phase speed\n",
    "    k = 2 * np.pi / L  # Wavenumber\n",
    "    cg = (L / (2 * T)) * (1 + 2 * (k) * h / np.sinh(2 * (k) * h))  # Group velocity\n",
    "\n",
    "    # Calculate group and phase speeds at depth h0\n",
    "    c0 = c[0]  # Phase speed at depth h0\n",
    "    cg0 = cg[0]  # Phase speed at depth h0\n",
    "\n",
    "    # Compute wave height and angle at depths h\n",
    "    theta = np.arcsin(c / c0 * np.sin(np.radians(theta0)))\n",
    "    H = H0 * np.sqrt(cg0 / cg) * np.sqrt(np.cos(np.abs(np.radians(theta0))) / np.cos(np.abs(np.radians(theta))))\n",
    "\n",
    "    # NaN values above shoreline\n",
    "    theta[h < 0] = np.nan\n",
    "    H[h < 0] = np.nan\n",
    "    L[h < 0] = np.nan\n",
    "    c[h < 0] = np.nan\n",
    "    cg[h < 0] = np.nan\n",
    "\n",
    "    # Calculate breaking variables\n",
    "    breaking_index = np.where(H / h > gamma)[0]\n",
    "    breaking_index = breaking_index[0]\n",
    "    breaking_depth = h[breaking_index]\n",
    "    breaking_height = H[breaking_index]\n",
    "    breaking_angle = np.degrees(theta[breaking_index])\n",
    "\n",
    "    # Store variables\n",
    "    wave_sub = {'h': h,\n",
    "                'L': L,\n",
    "                'Ldeep': Ldeep,\n",
    "                'H': H,\n",
    "                'c': c,\n",
    "                'cg': cg,\n",
    "                'theta': np.degrees(theta),\n",
    "                'breaking_depth': breaking_depth,\n",
    "                'breaking_height': breaking_height,\n",
    "                'breaking_angle': breaking_angle,\n",
    "                'breaking_index': breaking_index}\n",
    "\n",
    "    return wave_sub"
   ]
  },
  {
   "cell_type": "code",
   "execution_count": 5,
   "id": "fcec2453-241c-441d-9433-4e2116dc6955",
   "metadata": {},
   "outputs": [],
   "source": [
    "def find_closest_index(lst, target):\n",
    "    closest_index = min(range(len(lst)), key=lambda i: abs(lst[i] - target))\n",
    "    return closest_index\n",
    "\n",
    "def indices_between(lst, lower_bound, upper_bound):\n",
    "    between_indices = [i for i, x in enumerate(lst) if lower_bound < x < upper_bound]\n",
    "    return between_indices\n",
    "\n",
    "def ft2m(feet):\n",
    "    meters = feet * 0.3048  # 1 foot is approximately equal to 0.3048 meters\n",
    "    return meters"
   ]
  },
  {
   "cell_type": "markdown",
   "id": "dd92d323-0e6a-4bbd-82bb-14db3c193567",
   "metadata": {},
   "source": [
    "## Constants\n",
    "\n",
    "- Density of sand: $\\rho_s = 2650 $ kg/m$^3  = 2.65$ g/cm$^3$    \n",
    "- Density of fresh fluid: $\\rho_f = 997 $ kg/m$^3 = 0.997$ g/cm$^3$   \n",
    "- Density difference: $\\Delta \\rho = \\rho_s - \\rho_f = 1653$ kg/m$^3 = 1.653$ g/cm$^3$  \n",
    "- Specific density: $s = \\frac{\\rho_s}{\\rho_f} = 2.65$\n",
    "- Specific gravity: $s_g = \\frac{\\rho_s - \\rho_f}{\\rho_f} = 1.658$\n",
    "- Gravity: $g = 9.81$ m/s$^2 = 980$ cm/s$^2$  \n",
    "- Kinematic viscosity: $\\mu = 0.00139 $ kg/m/s $= 0.0139$ g/cm/s (10$^{\\circ}$C saltwater) \n",
    "- Dynamic viscosity: $\\nu = \\frac{\\mu}{\\rho_f} = 1.39 \\times 10^{-6}$ m$^2$/s\n",
    "- von Karmen's constant, $\\kappa \\approx 0.41$"
   ]
  },
  {
   "cell_type": "code",
   "execution_count": 6,
   "id": "8265ee9e-5620-4b03-94e9-5a167718fa5d",
   "metadata": {},
   "outputs": [],
   "source": [
    "# constants\n",
    "rhos = 2650 # kg/m3\n",
    "rhof = 997 # kg/m3\n",
    "drho = rhos - rhof # kg/m3\n",
    "g = 9.81 # m/s2\n",
    "sdense = rhos / rhof # typ 2.65, specific density\n",
    "sgrav = (rhos - rhof) / rhof # typ 1.65, specific gravity\n",
    "mu = 0.00139 # kg/m/s\n",
    "nu = mu / rhof # m2/s\n",
    "kappa = 0.41"
   ]
  },
  {
   "cell_type": "markdown",
   "id": "3cc3459f-7725-40ce-8a1f-a4496f46baf0",
   "metadata": {},
   "source": [
    "## Givens:\n",
    "\n",
    "Wave and water level properties:\n",
    "- Frequencies: $f_1, f_2$  \n",
    "- Amplitudes: $a_1, a_2$  \n",
    "\n",
    "Sediment properties:\n",
    "- Sediment size: $d_{50} = 0.15$ mm\n",
    "\n",
    "Lab domain"
   ]
  },
  {
   "cell_type": "code",
   "execution_count": 7,
   "id": "a04ec5c6-2ac6-48b9-8302-89b60bb27054",
   "metadata": {},
   "outputs": [],
   "source": [
    "# define bichromatic wave and water properties\n",
    "f1 = 0.5 # frequency \n",
    "f2 = 0.43 # frequency \n",
    "a1 = 0.05 # amplitude  \n",
    "a2 = 0.05 # amplitude\n",
    "swl = 1.2 #1.5 # still water level at the wavemaker\n",
    "theta0 = 0 # wave direction relative to shore-normal\n",
    "gammab = 0.5 # breaking threshold (H/h)\n",
    "\n",
    "# define water level at the wavemaker\n",
    "D50 = 0.15/1000 # m, median sediment size, model = 0.15\n",
    "\n",
    "# lab domain\n",
    "lab_slope = 1/32 #1/43.5 #1/32\n",
    "lab_length = 63\n",
    "lab_depth = 1.5 + 0.48 #1.2 + 0.48 #1.5+0.48\n",
    "lab_beach = 1.36 #1.7\n",
    "\n",
    "# Config 1: swl = 1.2, lab_slope = 1/43.5, lab_depth = 1.5 + 0.48"
   ]
  },
  {
   "cell_type": "markdown",
   "id": "dc117c81-edaa-4c21-8946-42825b66c164",
   "metadata": {},
   "source": [
    "### Define bathymetry with givens"
   ]
  },
  {
   "cell_type": "code",
   "execution_count": 8,
   "id": "d96e75bd-d124-4084-b668-27cc76b617fe",
   "metadata": {},
   "outputs": [
    {
     "data": {
      "image/png": "[encoded data removed]",
      "text/plain": [
       "<Figure size 1000x200 with 1 Axes>"
      ]
     },
     "metadata": {},
     "output_type": "display_data"
    }
   ],
   "source": [
    "# setup bathymetry\n",
    "dx = 0.1\n",
    "x = np.arange(0, lab_length + dx, dx)\n",
    "d = np.zeros_like(x)\n",
    "\n",
    "\n",
    "# create experiment slope\n",
    "ibeach = np.arange(int(len(x)-lab_beach / lab_slope / dx),len(x),1)\n",
    "d[ibeach] = np.arange(dx * lab_slope, lab_beach + dx * lab_slope, dx * lab_slope)\n",
    "\n",
    "# create offshore slope\n",
    "slope_off = 1/43.5\n",
    "off_depth = ft2m(66.7)*slope_off\n",
    "ioffbeach = indices_between(x, ft2m(11.11+0.31), ft2m(11.11+0.31+66.7))\n",
    "d[ioffbeach] =  np.arange(0, off_depth + dx * slope_off, dx * slope_off)[1:]\n",
    "\n",
    "# if ioffbeach[-1] < ibeach[0]:\n",
    "    # iflat = find_closest_index(d[ioffbeach[-1]+1:ibeach[-1]], d[ioffbeach[-1]])\n",
    "    # d[ioffbeach[-1]+1:iflat+ibeach[0]-1] = d[ioffbeach[-1]] \n",
    "iflat = find_closest_index(d[ioffbeach[-1]+1:ibeach[-1]], d[ioffbeach[-1]])\n",
    "d[ioffbeach[-1]+1:iflat+ioffbeach[-1]] = d[ioffbeach[-1]]\n",
    "d[:ioffbeach[0]] = 0\n",
    "\n",
    "# define water depth\n",
    "h = -(d-swl)\n",
    "\n",
    "# window\n",
    "winloc = ft2m(115.41+0.31+np.array([0, 48]))\n",
    "\n",
    "# Create a plot\n",
    "fig, ax = plt.subplots(1, figsize=(10, 2))\n",
    "ax.plot(x, -h, lw=1.5, color='k', label='$z$')\n",
    "ax.plot(x, np.zeros_like(h), lw=1.5, color='grey', linestyle=':', label='SWL')\n",
    "ax.scatter([x[ioffbeach[0]], x[ioffbeach[-1]]], [-h[ioffbeach[0]], -h[ioffbeach[-1]]])\n",
    "ax.fill_betweenx([-1, 0.5], winloc[0], winloc[1], color='gray', alpha=0.3)\n",
    "font_size = 14\n",
    "ax.set_xlabel('$x$ (m)', fontsize=font_size)\n",
    "ax.set_ylabel('(m)', fontsize=font_size)\n",
    "ax.legend(loc='upper right', bbox_to_anchor=(1, 1), fontsize=font_size)\n",
    "plt.show()"
   ]
  },
  {
   "cell_type": "markdown",
   "id": "ff700f73-77df-4716-a23b-5ebaa9a2198b",
   "metadata": {},
   "source": [
    "## Wave field\n",
    "\n",
    "### Bulk statistics and timeseries\n",
    "\n",
    "$$\\omega^2 = gk \\tanh(kh)$$  \n",
    "$$\\eta = a_1 \\cos(\\omega_1 t - k_1 x + \\phi_1) + a_2 \\cos(\\omega_2 t - k_2 x + \\phi_2)$$\n",
    "wave group period ($T_g$)\n",
    "$$T_g = \\frac{1}{f} = \\frac{1}{f_1 - f_2}$$\n",
    "where the peak wave period is:\n",
    "$$T_p = \\frac{1}{f_p} = \\frac{2}{f_1 + f_2}$$\n",
    "and $f_p$ is the average frequency."
   ]
  },
  {
   "cell_type": "code",
   "execution_count": 9,
   "id": "7b8c9f1c-9d9c-47c3-916e-bb23c71ee776",
   "metadata": {},
   "outputs": [
    {
     "name": "stderr",
     "output_type": "stream",
     "text": [
      "/var/folders/b3/fcq1f4vd2lnfqxw0j8sm5b800000gp/T/ipykernel_34353/3879575243.py:25: DeprecationWarning: Conversion of an array with ndim > 0 to a scalar is deprecated, and will error in future. Ensure you extract a single element from your array before performing this operation. (Deprecated NumPy 1.25.)\n",
      "  return omega, float(k)\n"
     ]
    }
   ],
   "source": [
    "# bichromatic wave period and wavelength:\n",
    "T = 2 / (f1 + f2)\n",
    "Tg = 1 / (f1 - f2)\n",
    "[omega, k0] = calc_omega_k(1/T,swl)\n",
    "L0 = 2 * np.pi / k0\n",
    "\n",
    "# max height\n",
    "H0 = 2 * (a1 + a2)\n",
    "a0 = H0 / 2\n",
    "h0 = swl"
   ]
  },
  {
   "cell_type": "code",
   "execution_count": 10,
   "id": "070e65c8-e40b-4a88-b0a6-2dc4043f9029",
   "metadata": {},
   "outputs": [
    {
     "name": "stderr",
     "output_type": "stream",
     "text": [
      "/var/folders/b3/fcq1f4vd2lnfqxw0j8sm5b800000gp/T/ipykernel_34353/3879575243.py:25: DeprecationWarning: Conversion of an array with ndim > 0 to a scalar is deprecated, and will error in future. Ensure you extract a single element from your array before performing this operation. (Deprecated NumPy 1.25.)\n",
      "  return omega, float(k)\n"
     ]
    }
   ],
   "source": [
    "# calc omega, k\n",
    "[omega1, k1] = calc_omega_k(f1,swl)\n",
    "[omega2, k2] = calc_omega_k(f2,swl)\n",
    "\n",
    "# Define the parameters\n",
    "xp = 0#np.arange(0, 58.1, 0.1)#200.1, 0.1)\n",
    "tp = np.arange(0, 58.1, 0.1)#200.1, 0.1)\n",
    "\n",
    "# define phase lags\n",
    "phi1 = 180\n",
    "phi2 = 0\n",
    "\n",
    "# Define the wave expressions\n",
    "eta0 = a1 * np.cos(omega1 * tp - k1 * xp + np.deg2rad(phi1)) + a2 * np.cos(omega2 * tp - k2 * xp + np.deg2rad(phi2))"
   ]
  },
  {
   "cell_type": "code",
   "execution_count": 11,
   "id": "ab4e3a24-7c17-4b71-958c-4216aa054e94",
   "metadata": {},
   "outputs": [
    {
     "data": {
      "image/png": "[encoded data removed]",
      "text/plain": [
       "<Figure size 1000x300 with 1 Axes>"
      ]
     },
     "metadata": {},
     "output_type": "display_data"
    }
   ],
   "source": [
    "# Create a plot\n",
    "fig, ax = plt.subplots(1, figsize=(10, 3))\n",
    "ax.plot(tp, eta0, lw=1.5, color='k')\n",
    "font_size = 14\n",
    "ax.set_xlabel('$t$ (s)', fontsize=font_size)\n",
    "ax.set_ylabel(r'$\\eta_0$ (m)', fontsize=font_size)\n",
    "plt.show()"
   ]
  },
  {
   "cell_type": "markdown",
   "id": "2adc7bef-169d-4216-aa8f-132ff8e8ce13",
   "metadata": {},
   "source": [
    "### Shoal wave\n",
    "Shoal waves to breaking assuming linear wave theory"
   ]
  },
  {
   "cell_type": "code",
   "execution_count": 12,
   "id": "a04a2660-f460-4515-9a34-ec64d490a600",
   "metadata": {},
   "outputs": [],
   "source": [
    "wave =  waveshoal_h_nonmono(T, H0, theta0, gammab, h)\n",
    "wave_group =  waveshoal_h_nonmono(Tg, 0.1, theta0, gammab, h)\n",
    "wave_half =  waveshoal_h_nonmono(T, H0/2, theta0, gammab, h)\n",
    "\n",
    "L = wave['L']\n",
    "H = wave['H']\n",
    "ib = wave['breaking_index'] + 1 # offset maybe due to the transistion between matlab and python?\n",
    "hb = wave['breaking_depth'] # water depth at breaking\n",
    "Hb = wave['breaking_height'] # wave height at breaking\n",
    "theta = wave['theta']\n",
    "ab = Hb / 2 # amplitude at breaking\n",
    "Lb = L[ib] # wavelength at breaking\n",
    "thetab = theta[ib] # angle at breaking\n",
    "etab = eta0 * (Hb / H0) # as a proxity for the water surface elevation near breaking, increase eta based on shoaling. \n",
    "etab[np.isnan(etab)] = 0\n",
    "# NOTE that linear wave theory does NOT hold here and therefore, this does not represent the water surface near breaking accurately."
   ]
  },
  {
   "cell_type": "markdown",
   "id": "f7ec2c5d-c91d-4a83-a835-c95f8a6f7a5a",
   "metadata": {},
   "source": [
    "Testing if we are in transitional or shallow water:"
   ]
  },
  {
   "cell_type": "code",
   "execution_count": 13,
   "id": "0d3dc8b9-7010-412f-894f-05333c382af1",
   "metadata": {},
   "outputs": [
    {
     "data": {
      "image/png": "[encoded data removed]",
      "text/plain": [
       "<Figure size 1000x300 with 1 Axes>"
      ]
     },
     "metadata": {},
     "output_type": "display_data"
    }
   ],
   "source": [
    "# wave_group['L'][0]/20\n",
    "# wave['L'][0]/20\n",
    "\n",
    "fig, ax = plt.subplots(1, figsize=(10, 3))\n",
    "plt.plot(x,wave['L'],color='r',label='$L_{0,sg}$')\n",
    "plt.plot(x,wave_group['L'],color='b',label='$L_{0,ig}$')\n",
    "plt.plot(x,h*20,color='k',label='$20*h$')\n",
    "ax.legend(loc='upper right', bbox_to_anchor=(1, 1), fontsize=font_size)\n",
    "plt.show()"
   ]
  },
  {
   "cell_type": "code",
   "execution_count": 14,
   "id": "9a3de738-f926-49aa-9844-d2a6b53afad2",
   "metadata": {},
   "outputs": [],
   "source": [
    "# # Runup: This needs to be revisted to ensure it is correct\n",
    "# def calculate_runup(slope, Hsig, L):\n",
    "#     runup = 1.1 * (0.35 * slope * math.sqrt(Hsig * L) + 0.5 * math.sqrt(Hsig * L) * (0.563 * (slope ** 2) + 0.004))\n",
    "#     return runup\n",
    "\n",
    "# runup = calculate_runup(lab_slope, H0, L0)\n",
    "# irunup = find_closest_index(d, runup+swl)"
   ]
  },
  {
   "cell_type": "code",
   "execution_count": 15,
   "id": "03d86033-04ba-415b-8dbe-3a04438ed0e6",
   "metadata": {},
   "outputs": [
    {
     "data": {
      "image/png": "[encoded data removed]",
      "text/plain": [
       "<Figure size 1000x200 with 1 Axes>"
      ]
     },
     "metadata": {},
     "output_type": "display_data"
    }
   ],
   "source": [
    "# Create a plot\n",
    "fig, ax = plt.subplots(1, figsize=(10, 2))\n",
    "ax.plot(x, d-swl, lw=1.5, color='k', label='$z$')\n",
    "ax.plot(x, H, lw=1.5, color='r', label='$H_{max}$')\n",
    "ax.plot(x, wave_half['H'], lw=1.5, color='b', label='$H_{1/2}$')\n",
    "ax.plot(x, np.zeros_like(h), lw=1.5, color='grey', linestyle=':', label='SWL')\n",
    "# ax.plot([x[irunup], x[irunup]], [-1, 0.5], lw=1.5, color='g', linestyle='-', label=r'$\\eta_{2\\%}$')\n",
    "ax.scatter([x[ioffbeach[0]], x[ioffbeach[-1]]], [-h[ioffbeach[0]], -h[ioffbeach[-1]]])\n",
    "ax.fill_betweenx([-1, 0.5], winloc[0], winloc[1], color='gray', alpha=0.3)\n",
    "font_size = 12\n",
    "ax.set_xlabel('$x$ (m)', fontsize=font_size)\n",
    "ax.set_ylabel('(m)', fontsize=font_size)\n",
    "ax.legend(loc='upper right', bbox_to_anchor=(1, 1), fontsize=font_size)\n",
    "plt.show()"
   ]
  },
  {
   "cell_type": "markdown",
   "id": "6dd62764-1476-4d8c-9833-e4821f1ddafc",
   "metadata": {},
   "source": [
    "### Orbital velocities\n",
    "\n",
    "**Orbital velocities and excursion at bottom boundary**\n",
    "$$\n",
    "\\tilde{u}_{b} = a \\omega \\frac{\\cosh [k (z+d)]]}{\\sinh (kd)} cos \\theta\n",
    "$$\n",
    "in shallow water, this form converges (but prefer to use above)\n",
    "$$\n",
    "\\tilde{u}_{b} = a \\frac{gT}{L} \\frac{\\cosh [2 \\pi (z+d)/L]]}{\\sinh (2 \\pi d/L)} cos \\theta\n",
    "$$\n",
    "where $\\tilde{u}_{b} = \\sqrt{2}u_{rms}$.\n",
    "\n",
    "$$\n",
    "\\tilde{a}_{b} = \\frac{\\tilde{u}_{b}}{\\omega}\n",
    "$$\n",
    "\n",
    "Here, we use values at breaking and at the wavemaker:"
   ]
  },
  {
   "cell_type": "code",
   "execution_count": 34,
   "id": "e498c721-9244-4652-934b-b20a9b004ffb",
   "metadata": {},
   "outputs": [],
   "source": [
    "def wave_orbital_velocity(a, T, L, z, h, theta):\n",
    "    g = 9.81\n",
    "    u = a *  np.pi * 2 / T * ((np.cosh(2*np.pi*(z+h)/L)) / (np.sinh(2*np.pi*h/L))) * np.cos(np.radians(theta))\n",
    "    w = a *  np.pi * 2 / T * ((np.sinh(2*np.pi*(z+h)/L)) / (np.sinh(2*np.pi*h/L))) * np.cos(np.radians(theta))\n",
    "    # below was other option because converge in shallow water\n",
    "    # u = a * g * T / L * ((np.cosh(2*np.pi*(z+h)/L)) / (np.cosh(2*np.pi*h/L))) * np.cos(np.radians(theta))\n",
    "    # w = a *  g * T / L * ((np.sinh(2*np.pi*(z+h)/L)) / (np.cosh(2*np.pi*h/L))) * np.cos(np.radians(theta))\n",
    "    ao = u / (2 * np.pi / T)\n",
    "    return u, w, ao"
   ]
  },
  {
   "cell_type": "markdown",
   "id": "9c99ed96-2181-44d9-9756-c7b5bec57d3b",
   "metadata": {},
   "source": [
    "Calculate bottom orbital velocities and excursion at breaking"
   ]
  },
  {
   "cell_type": "code",
   "execution_count": 35,
   "id": "3956ecbb-6a3b-41a6-a0d5-997649acfb87",
   "metadata": {},
   "outputs": [
    {
     "name": "stdout",
     "output_type": "stream",
     "text": [
      "ubmax at breaking = 0.453 m\n",
      "abmax at breaking = 0.155 m\n"
     ]
    }
   ],
   "source": [
    "[ubb, wbb, aob] = wave_orbital_velocity(etab, T, Lb, -hb, hb, thetab)\n",
    "[ubb_max, wbb_max, aob_max] = wave_orbital_velocity(ab, T, Lb, -hb, hb, thetab)\n",
    "print(f\"ubmax at breaking = {ubb_max:.3f} m\")\n",
    "print(f\"abmax at breaking = {aob_max:.3f} m\")"
   ]
  },
  {
   "cell_type": "markdown",
   "id": "3db96db6-01e8-46da-b710-766b8e52127f",
   "metadata": {},
   "source": [
    "Calculate bottom oribital velocities and excursion at wavemaker"
   ]
  },
  {
   "cell_type": "code",
   "execution_count": 18,
   "id": "cf1b5217-8628-406f-b0fd-25dfb90c38ce",
   "metadata": {},
   "outputs": [],
   "source": [
    "[ub0, wb0, ao0] = wave_orbital_velocity(eta0, T, L0, -h0, h0, theta0)\n",
    "[ub0_max, wb0_max, ao0_max] = wave_orbital_velocity(a0, T, L0, -h0, h0, theta0)"
   ]
  },
  {
   "cell_type": "code",
   "execution_count": 19,
   "id": "8ffdcd1c-b390-4551-8963-e6b9b4595ff3",
   "metadata": {},
   "outputs": [
    {
     "data": {
      "image/png": "[encoded data removed]",
      "text/plain": [
       "<Figure size 1000x300 with 1 Axes>"
      ]
     },
     "metadata": {},
     "output_type": "display_data"
    }
   ],
   "source": [
    "# Create a plot\n",
    "fig, ax = plt.subplots(1, figsize=(10, 3))\n",
    "ax.plot(tp, ub0, lw=2, color='k', label='$u_{b,0}$')\n",
    "ax.plot(tp, ubb, lw=1, color='r', label='$u_{b,b}$')\n",
    "font_size = 14\n",
    "ax.set_xlabel('$t$ (s)', fontsize=font_size)\n",
    "ax.set_ylabel('$u_{b}$ (m/s)', fontsize=font_size)\n",
    "ax.legend(loc='upper right', bbox_to_anchor=(1, 1), fontsize=font_size)\n",
    "plt.show()"
   ]
  },
  {
   "cell_type": "markdown",
   "id": "d809fe49-7882-4304-a05c-a52a0a0f5b7e",
   "metadata": {},
   "source": [
    "### Ustar\n",
    "**Ustar from the frictional velocity or shear velocity**  \n",
    "The frictional coefficient is\n",
    "$$\n",
    "f_w = \\exp\\left[ 5.213 \\left( \\frac{2.5 d_{50}}{\\tilde{a}_{b}} \\right) ^{0.194} -5.977 \\right]\n",
    "$$\n",
    "\n",
    "**Shear velocity**\n",
    "bed shear stress is\n",
    "$$\n",
    "\\tau_{bw} = \\frac{2}{3\\pi}\\rho_ff_w \\tilde{u}_{b}^2~~[\\mathrm{N/m}^2]\n",
    "$$\n",
    "such that\n",
    "$$\n",
    "u_* = \\sqrt{\\frac{\\tau_{bw}}{\\rho_f}} = \\sqrt{\\frac{2f_w}{3\\pi}} \\tilde{u}_{b}\n",
    "$$\n",
    "\n",
    "**Frictional velocity**\n",
    "$$\n",
    "u_* = \\sqrt{f_w} u_{rms} = \\sqrt{\\frac{f_w}{2}}\\tilde{u}_{b}\n",
    "$$\n",
    "\n",
    "Note, the shear velocity is less than the frictional velocity method by a factor of 0.65. \n",
    "\n",
    "**<span style=\"color:red;\">For now, proceed with the shear velocity method at breaking.</span>**"
   ]
  },
  {
   "cell_type": "code",
   "execution_count": 20,
   "id": "4bdd855c-6321-4710-95e2-df607a651fb6",
   "metadata": {},
   "outputs": [],
   "source": [
    "def calculate_fw(D50, ab):\n",
    "    fw = np.exp(5.213 * (2.5 * D50 / ab) ** 0.194 - 5.977)\n",
    "    return fw\n",
    "\n",
    "def calculate_taub(rhof, fw, ub):\n",
    "    taub = (2 / (3 * np.pi)) * rhof * fw * (ub ** 2)\n",
    "    return taub\n",
    "\n",
    "def calculate_ustar(tau, rhof):\n",
    "    ustar = np.sqrt(tau / rhof)\n",
    "    return ustar"
   ]
  },
  {
   "cell_type": "code",
   "execution_count": 21,
   "id": "f8f4c64a-00b4-4898-b363-e8279499665d",
   "metadata": {},
   "outputs": [
    {
     "name": "stdout",
     "output_type": "stream",
     "text": [
      "ustar = 0.023\n"
     ]
    }
   ],
   "source": [
    "fw = calculate_fw(D50, aob_max)\n",
    "taub = calculate_taub(rhof, fw, ubb_max)\n",
    "ustar = calculate_ustar(taub, rhof)\n",
    "print(f\"ustar = {ustar:.3f}\")"
   ]
  },
  {
   "cell_type": "markdown",
   "id": "2b5bd009-d944-4a43-a8c7-7ba29fa00f74",
   "metadata": {},
   "source": [
    "## Hydrodynamic scaling parameters"
   ]
  },
  {
   "cell_type": "markdown",
   "id": "31845dfb-b6ae-4fcb-88dd-825ed97a8420",
   "metadata": {},
   "source": [
    "### Reynolds number \n",
    "The flow conditions near the bed can be divided in laminar, smooth turbulent and rough turbulent. These regimes can be predicted with the grain size Reynolds number:\n",
    "$$\n",
    "Re_{gs} = \\frac{\\tilde{u}_{b,\\mathrm{max}} d_{50}}{\\nu} =\\frac{\\sqrt{2} u_{rms} d_{50}}{\\nu}\n",
    "$$\n",
    "and the wave boundary layer Reynolds number:\n",
    "$$\n",
    "R_{wbl} = \\frac{ \\tilde{u}_{b,\\mathrm{max}} a_b}{\\nu}=\\frac{\\sqrt{2}u_{rms}a_b}{\\nu}\n",
    "$$"
   ]
  },
  {
   "cell_type": "code",
   "execution_count": 22,
   "id": "e2bf6cf5-c33c-45a3-a21b-89845f85b9ea",
   "metadata": {},
   "outputs": [],
   "source": [
    "def calculate_Re_wbl(ub, ab, nu):\n",
    "    Re = ub * ab / nu\n",
    "    if Re <= 2000:\n",
    "        print('Laminar Flow')\n",
    "    elif Re > 2000 and Re <= 4000:\n",
    "        print('Unstable Flow')\n",
    "    elif Re > 4000:\n",
    "        print('Turbulent Flow')\n",
    "    return Re\n",
    "\n",
    "def calculate_Re_gs(ustar, D50, nu):\n",
    "    Re = ustar * D50 / nu\n",
    "    return Re"
   ]
  },
  {
   "cell_type": "code",
   "execution_count": 23,
   "id": "0fcd400c-6b8e-45c0-b7df-a8f03ad45d4f",
   "metadata": {},
   "outputs": [
    {
     "name": "stdout",
     "output_type": "stream",
     "text": [
      "Turbulent Flow\n",
      "ReWBL = 49607.924 and ReGS = 2.525\n"
     ]
    }
   ],
   "source": [
    "Re_wbl = calculate_Re_wbl(ubb_max, aob_max, nu)\n",
    "Re_gs = calculate_Re_gs(ustar, D50, nu)\n",
    "print(f\"ReWBL = {Re_wbl:.3f} and ReGS = {Re_gs:.3f}\")"
   ]
  },
  {
   "cell_type": "markdown",
   "id": "befa7b0a-cd7f-47b0-85ed-c9cb51bc0ab0",
   "metadata": {},
   "source": [
    "### Froude number\n",
    "$$\n",
    "Fr = \\frac{H \\omega}{2 \\sqrt{gh}}\n",
    "$$\n",
    "or an alternative: \n",
    "$$\n",
    "Fr = \\frac{\\tilde{a}_{b}}{2 \\sqrt{gh}}\n",
    "$$\n",
    "\n",
    "$Fr<1$ subcritial  \n",
    "$Fr = 1$ critical  \n",
    "$Fr > 1$ supercirtical (fast rapid)"
   ]
  },
  {
   "cell_type": "code",
   "execution_count": 24,
   "id": "dace98de-6807-429a-b6e4-56040d37e726",
   "metadata": {},
   "outputs": [],
   "source": [
    "def calculate_Fr(H, omega, g, h):\n",
    "    Fr = H * omega / (2 * np.sqrt(g * h))\n",
    "    # Fr = ub/(2*np.sqrt(g*h))\n",
    "    if Fr < 1:\n",
    "        print('Subcritical')\n",
    "    elif Fr == 1:\n",
    "        print('Critical')\n",
    "    elif Fr > 1:\n",
    "        print('Supercritical')\n",
    "    return Fr"
   ]
  },
  {
   "cell_type": "code",
   "execution_count": 25,
   "id": "de2e5047-d10d-4a13-bafb-88c86d3391e3",
   "metadata": {},
   "outputs": [
    {
     "name": "stdout",
     "output_type": "stream",
     "text": [
      "Subcritical\n",
      "Fr = 0.1537\n"
     ]
    }
   ],
   "source": [
    "Fr = calculate_Fr(Hb, omega, g, hb)\n",
    "print(f\"Fr = {Fr:.4f}\")"
   ]
  },
  {
   "cell_type": "markdown",
   "id": "3bb93c48-f70b-4183-9396-8010fc81d6df",
   "metadata": {},
   "source": [
    "### Iribarren Number\n",
    "This is typically based on deep water wave conditions.\n",
    "$$\n",
    " \\zeta = \\frac{\\beta}{\\sqrt{H_s/L_0}}\n",
    "$$\n",
    "\n",
    "$\\zeta$ <0.4: Spilling  \n",
    "$0.4<\\zeta<2$: Plunging  \n",
    "$\\zeta>2$: Collapsing or surging"
   ]
  },
  {
   "cell_type": "code",
   "execution_count": 26,
   "id": "1002b7a9-a79a-4013-b125-fb97545aec5e",
   "metadata": {},
   "outputs": [],
   "source": [
    "def calculate_zeta(beta, H, T):\n",
    "    g = 9.81\n",
    "    d = 1000\n",
    "    L0 = T * np.sqrt( g * d )\n",
    "    zeta = beta / np.sqrt(H / L0)\n",
    "    if zeta <= 0.4:\n",
    "        print('Spilling')\n",
    "    elif zeta > 0.4 and zeta <= 2:\n",
    "        print('Plunging')\n",
    "    elif zeta > 2:\n",
    "        print('Collapsing or surging')\n",
    "    return zeta"
   ]
  },
  {
   "cell_type": "code",
   "execution_count": 27,
   "id": "7f0f1101-37d5-409d-a1df-bc4ef0653938",
   "metadata": {},
   "outputs": [
    {
     "name": "stdout",
     "output_type": "stream",
     "text": [
      "Plunging\n",
      "zeta = 1.020\n"
     ]
    }
   ],
   "source": [
    "zeta = calculate_zeta(lab_slope, H0, T)\n",
    "print(f\"zeta = {zeta:.3f}\")"
   ]
  },
  {
   "cell_type": "markdown",
   "id": "c1f968b6-eb1a-47c1-950d-929f7da32579",
   "metadata": {},
   "source": [
    "### Ursell number\n",
    "The Ursell number relates the skewness and asymmetry and quantifies the nonlinearity:\n",
    "$$\n",
    "Ur = \\frac{3}{8} \\frac{H_{m,0} k}{(kh)^3}\n",
    "$$\n",
    "For small Ursell numbers, the skewness and asymmetry both approach zero and the waves have a sinusoidal shape, and thus waves having small Ursell numbers do not result in net sediment transport. For $Ur\\sim 1$, the skewness is maximum and the asymmetry is small and the waves have a skewed shape. For large Ursell numbers, the skewness approaches 0 and the asymmetry is maximum, resulting in an asymmetric wave shape. In this way, if the wave shape is known, the Ursell number can be predicted and consequently the size and direction of sediment transport at a certain location can be predicted. \n",
    "\n",
    "Skewness:\n",
    "$$\n",
    "Sk = B \\cos(\\psi)\n",
    "$$\n",
    "Assymetry:\n",
    "$$\n",
    "As = B \\sin (\\psi)\n",
    "$$\n",
    "where\n",
    "$$\n",
    "B = \\frac{0.857}{1+\\exp{\\frac{-0.471-\\log(Ur)}{0.297}}}\n",
    "$$\n",
    "and\n",
    "$$\n",
    "\\psi = -90^{\\circ}+90^{\\circ}\\tanh\\left(\\frac{0.815}{Ur^{0.672}}\\right)\n",
    "$$\n",
    "\n",
    "**<span style=\"color:red;\">Need to figure out regimes.</span>**"
   ]
  },
  {
   "cell_type": "code",
   "execution_count": 28,
   "id": "6abb02b3-ed43-43e9-a784-77715bfddce5",
   "metadata": {},
   "outputs": [],
   "source": [
    "def calculate_ursell(H, k, h):\n",
    "    # Calculate Ur\n",
    "    Ur = (3/8) * H * k / ((k * h) ** 3)\n",
    "    \n",
    "    # Calculate B\n",
    "    B = 0.857 / (1 + math.exp((-0.471 - math.log(Ur) / 0.297)))\n",
    "    \n",
    "    # Calculate psi\n",
    "    psi = -math.pi/2 + (math.pi/2) * math.tanh(0.815 / (Ur ** 0.672))\n",
    "    \n",
    "    # Calculate Sk and As\n",
    "    Sk = B * math.cos(psi)\n",
    "    As = B * math.sin(psi)\n",
    "    \n",
    "    return Ur, Sk, As"
   ]
  },
  {
   "cell_type": "code",
   "execution_count": 29,
   "id": "a83c08cb-4550-435e-bfb1-4e4425c35a23",
   "metadata": {},
   "outputs": [
    {
     "name": "stdout",
     "output_type": "stream",
     "text": [
      "Ur = 0.444\n",
      "Sk = 0.080\n",
      "As = -0.014\n"
     ]
    }
   ],
   "source": [
    "kb = 2 * np.pi / Lb\n",
    "[Ur, Sk, As] = calculate_ursell(Hb, kb, hb)\n",
    "print(f\"Ur = {Ur:.3f}\")\n",
    "print(f\"Sk = {Sk:.3f}\")\n",
    "print(f\"As = {As:.3f}\")"
   ]
  },
  {
   "cell_type": "markdown",
   "id": "0e27800e-9ac4-4a8c-a08c-e823d772617a",
   "metadata": {},
   "source": [
    "### Normalized Beach Slope\n",
    "See Bertin et al., 2017"
   ]
  },
  {
   "cell_type": "code",
   "execution_count": 30,
   "id": "a7d0a383-414d-48d1-9cc0-c5f7f82f6712",
   "metadata": {},
   "outputs": [],
   "source": [
    "# betah = (beachslope * (T * 2)  / (2 * pi)) * sqrt(g / (H/3)) "
   ]
  },
  {
   "cell_type": "code",
   "execution_count": null,
   "id": "f1b3330a-7e8a-46b5-9de3-831b645c8f70",
   "metadata": {},
   "outputs": [],
   "source": []
  },
  {
   "cell_type": "markdown",
   "id": "40cd9383-c707-42d9-9e42-16b9f157d50e",
   "metadata": {},
   "source": [
    "## Sediment transport scaling parameters"
   ]
  },
  {
   "cell_type": "markdown",
   "id": "5c402e00-cd1a-4472-8c7d-0dc46ccc1e30",
   "metadata": {},
   "source": [
    "### Setting velocity: \n",
    "Assuming laminar settling, spherical particle, discrete particle, steady state, Stokes settling velocity is computed as:\n",
    "$$\n",
    "W_s = \\frac{D^2\\Delta \\rho g}{18 \\mu}\n",
    "$$\n",
    "where $D$ is the particle diameter ($D_{mm} = 2^{-\\phi}$), $\\Delta\\rho$ is the difference between the density of the sediment ($\\rho_s$) and fluid ($\\rho_f$), $g$ is gravity, and $\\mu$ is dynamic viscosity of the fluid."
   ]
  },
  {
   "cell_type": "code",
   "execution_count": 31,
   "id": "d971acd4-5c7c-4e68-8525-33fc0b31909b",
   "metadata": {},
   "outputs": [],
   "source": [
    "def calculate_ws(D50, drho, g, mu):\n",
    "    ws = ((D50 ** 2) * drho * g) / (18 * mu)\n",
    "    return ws"
   ]
  },
  {
   "cell_type": "code",
   "execution_count": 32,
   "id": "0a51ef71-0853-4deb-8998-684e5bf10636",
   "metadata": {},
   "outputs": [
    {
     "name": "stdout",
     "output_type": "stream",
     "text": [
      "Ws = 0.0146 m/s\n"
     ]
    }
   ],
   "source": [
    "# settling velocity\n",
    "ws = calculate_ws(D50, drho, g, mu)\n",
    "print(f\"Ws = {ws:.4f} m/s\")"
   ]
  },
  {
   "cell_type": "markdown",
   "id": "6cef966a-29ab-48d8-b1b7-10d38d38d58f",
   "metadata": {},
   "source": [
    "### Dean number\n",
    "$$\n",
    "\\Omega = \\frac{H_{rms}}{w_s T_p}\n",
    "$$\n",
    "\n",
    "$\\Omega$ <1: reflective beach  \n",
    "$1<\\Omega<6$: intermediate beach   \n",
    "$\\Omega>6$: dissipative beach"
   ]
  },
  {
   "cell_type": "code",
   "execution_count": 33,
   "id": "72d36e32-03e8-4ec6-918a-f8a194950e2b",
   "metadata": {},
   "outputs": [],
   "source": [
    "def calculate_Omega(H, ws, T):\n",
    "    Omega = H / (ws * T)\n",
    "    if Omega <= 1:\n",
    "        print('Reflective')\n",
    "    elif Omega > 1 and Omega <= 6:\n",
    "        print('Intermediate')\n",
    "    elif Omega > 6:\n",
    "        print('Dissipative')\n",
    "    return Omega"
   ]
  },
  {
   "cell_type": "code",
   "execution_count": 34,
   "id": "44c3436d-420b-4064-b018-e5ded5727a12",
   "metadata": {},
   "outputs": [
    {
     "name": "stdout",
     "output_type": "stream",
     "text": [
      "Dissipative\n",
      "Omega = 6.899\n"
     ]
    }
   ],
   "source": [
    "Omega = calculate_Omega(Hb, ws, T)\n",
    "print(f\"Omega = {Omega:.3f}\")"
   ]
  },
  {
   "cell_type": "markdown",
   "id": "446a7210-eb89-4c2f-b76a-03642894c475",
   "metadata": {
    "tags": []
   },
   "source": [
    "## Rouse number\n",
    "$$\n",
    "Rou = \\frac{w_s}{\\kappa u^*}\n",
    "$$\n",
    "\n",
    "Assuming the von Karmen''s constant $\\kappa \\approx 0.41$\n",
    "\n",
    "$Rou$ <0.8: Wash load  \n",
    "$0.8<Rou<1.2$: Suspended load (100%)  \n",
    "$1.2<Rou<2.5$: Suspended load (50%)  \n",
    "$Rou>2.5$: Bed load"
   ]
  },
  {
   "cell_type": "code",
   "execution_count": 35,
   "id": "605a717d-f8f0-4546-9d54-997874eb983f",
   "metadata": {},
   "outputs": [],
   "source": [
    "def calculate_Rou(ws, kappa, ustar):\n",
    "    Rou = ws / (kappa * ustar)\n",
    "    if Rou <= 0.8:\n",
    "        print('Wash load')\n",
    "    elif Rou > 0.8 and Rou <= 1.2:\n",
    "        print('Suspended load (100%)')\n",
    "    elif Rou > 1.2 and Rou <= 2.5:\n",
    "        print('Suspended load (50%)')\n",
    "    elif Rou > 2.5:\n",
    "        print('Bed load')\n",
    "    return Rou"
   ]
  },
  {
   "cell_type": "code",
   "execution_count": 36,
   "id": "1dba1190-5575-4213-bf29-ccdaee6f3f45",
   "metadata": {},
   "outputs": [
    {
     "name": "stdout",
     "output_type": "stream",
     "text": [
      "Suspended load (50%)\n",
      "Rou = 1.515\n"
     ]
    }
   ],
   "source": [
    "Rou = calculate_Rou(ws, kappa, ustar)\n",
    "print(f\"Rou = {Rou:.3f}\")"
   ]
  },
  {
   "cell_type": "code",
   "execution_count": 37,
   "id": "47286a42-e04d-40af-a417-54b2275928f7",
   "metadata": {},
   "outputs": [
    {
     "data": {
      "image/png": "[encoded data removed]",
      "text/plain": [
       "<Figure size 300x300 with 1 Axes>"
      ]
     },
     "metadata": {},
     "output_type": "display_data"
    }
   ],
   "source": [
    "# plot relative suspended-sediment concentration profiles\n",
    "za = 0.25 / 100\n",
    "z = np.arange(0.01, 1.01, 0.01)\n",
    "cc5 = (z / za) ** (-Rou)\n",
    "\n",
    "fig, ax = plt.subplots(1, figsize=(3, 3))\n",
    "ax.plot(cc5, z, lw=2, color='k')\n",
    "font_size = 14\n",
    "ax.set_xlabel(r'Rel. concentration, $\\overline{c}_s/\\overline{c}_a$', fontsize=font_size)\n",
    "ax.set_ylabel('$z$ (m)', fontsize=font_size)\n",
    "ax.set_xlim([0, 0.15])\n",
    "ax.set_ylim([0, 1])\n",
    "plt.show()"
   ]
  },
  {
   "cell_type": "markdown",
   "id": "404bf0dd-61f7-4f93-b7c8-731617681bb4",
   "metadata": {},
   "source": [
    "## Shields Number\n",
    "\n",
    "$$\n",
    "\\theta_{\\omega} = \\frac{\\langle \\tau_{bw} \\rangle}{(\\rho_s-\\rho_f)gd_{50}}\n",
    "$$\n",
    "\n",
    "$$\n",
    "Re_* = \\frac{ \\sqrt{\\frac{\\tau_{bw}}{ \\rho_f}}d_{50}}{\\nu}\n",
    "$$"
   ]
  },
  {
   "cell_type": "code",
   "execution_count": 38,
   "id": "02552c50-a1b1-413a-ae86-f997c65d69d7",
   "metadata": {},
   "outputs": [],
   "source": [
    "def calculate_shields(taub, rhos, rhof, D50, nu):\n",
    "    g = 9.81\n",
    "    shields = taub / ((rhos-rhof) * g * D50)\n",
    "    Restar = np.sqrt(taub / rhof) * D50 / nu\n",
    "    return shields, Restar"
   ]
  },
  {
   "cell_type": "code",
   "execution_count": 39,
   "id": "ef3d6480-c46d-4f38-9692-df9ad8724599",
   "metadata": {},
   "outputs": [
    {
     "name": "stdout",
     "output_type": "stream",
     "text": [
      "shields number = 0.226 and Restar = 2.525\n"
     ]
    }
   ],
   "source": [
    "[shields, Restar] = calculate_shields(taub, rhos, rhof, D50, nu)\n",
    "print(f\"shields number = {shields:.3f} and Restar = {Restar:.3f}\")"
   ]
  },
  {
   "cell_type": "markdown",
   "id": "178c4de5-2706-48f9-bc29-4cc6f7d84d81",
   "metadata": {},
   "source": [
    "### Stokes Number \n",
    "<!-- **<span style=\"color:red;\">Not certain about this number.</span>**  \n",
    "The settling velocity (also called the \"fall velocity\" or \"terminal velocity\") is a function of the particle Reynolds number. Generally, for small particles (laminar approximation), it can be calculated with Stokes' Law. For larger particles (turbulent particle Reynolds numbers), fall velocity is calculated with the turbulent drag law. Dietrich (1982) compiled a large amount of published data to which he empirically fit settling velocity curves. Ferguson and Church (2006) analytically combined the expressions for Stokes flow and a turbulent drag law into a single equation that works for all sizes of sediment, and successfully tested it against the data of Dietrich.\n",
    "\n",
    "$$\n",
    "w_s = \\frac{RgD^2}{C_1 \\nu+(0.75 C_2 RgD^3)^{0.5}}\n",
    "$$\n",
    "\n",
    "where $R$ is specific gravity and $C_1$ and $C_2$ are constants related to shape and smoothess. Here I choose conditions for natural grains with sieve diameters $C_1$ =18, $C_2$ = 1 (for nominal diamters $C_1$ =20, $C_2$=1.1)\n",
    "\n",
    "For known quantities and seive diamater for natural grains:\n",
    "$$\n",
    "w_s = \\frac{16.17 D^2}{1.8\\times 10^{-5}+(12.1275D^3)^{0.5}}\n",
    "$$\n",
    "\n",
    "**OR** -->\n",
    "A dimensionless number characterising the behavior of particles suspended in a fluid flow. Ratio of the characteristic time of a particle to characteristic time of the flow\n",
    "$$\n",
    "Stk =\\frac{t u }{l}\n",
    "$$\n",
    "where $t$ is the relaxation time, $u$ is the fluid velocity well away from the obstacle, $l$ is the characteristic dimension of the obstacle. In other words:\n",
    "$$\n",
    "Stk = \\frac{t u_*}{d_{50}}\n",
    "$$\n",
    "where\n",
    "$$\n",
    "t = \\frac{\\rho_s d_{50}^2}{18 \\mu}\n",
    "$$\n",
    "Thus,\n",
    "$$\n",
    "Stk = \\frac{\\rho_s D u_*}{18 \\mu }\n",
    "$$"
   ]
  },
  {
   "cell_type": "code",
   "execution_count": 40,
   "id": "83e70a5e-58fe-4ba4-bb22-27bbe92f8bbc",
   "metadata": {},
   "outputs": [],
   "source": [
    "# stokes fall velocity\n",
    "# def calculate_stk(D50):\n",
    "#     stk = 16.17 * D50**2 / ((1.8e-5) + (12.1275 * D50**3)**0.5)\n",
    "#     return stk\n",
    "\n",
    "# another stokes? \n",
    "def calculate_Stk(rhos, D50, mu, ustar):\n",
    "    Stk = (rhos * D50 * ustar) / (18 * mu)\n",
    "    return Stk"
   ]
  },
  {
   "cell_type": "code",
   "execution_count": 41,
   "id": "2f318b33-93c9-4b56-95ff-f3fb5204ce59",
   "metadata": {},
   "outputs": [
    {
     "name": "stdout",
     "output_type": "stream",
     "text": [
      "Stk = 0.373\n"
     ]
    }
   ],
   "source": [
    "# stk = calculate_stk(D50)\n",
    "# print(f\"stk = {stk:.3f}\")\n",
    "Stk = calculate_Stk(rhos, D50, mu, ustar)\n",
    "print(f\"Stk = {Stk:.3f}\")"
   ]
  },
  {
   "cell_type": "markdown",
   "id": "498e50e1-6d75-47c7-92e8-dd7d4c605aae",
   "metadata": {},
   "source": [
    "### Sleath number\n",
    "The relative density of sediment is important when considering particle accelerations. Horizontal pressure gradients and inertia forces can have a significant impact on the total force balance of a sediment particle. This impact can be expressed with the Sleath parameter\n",
    "$$\n",
    "S = \\frac{\\rho u \\omega}{(\\rho_s - \\rho)g}\n",
    "$$\n",
    "\n",
    "which is the ratio of inertial forces to gravitational forces acting on individual grains of sediment. High Sleath numbers ($S>0.2$) suggests that sediment will start to move earlier than predicted by the Shields curve. In addition, the mode of transport can become different and sediment will start to move as a block, also known as plug flow. \n",
    "\n",
    "High sleath numbers (S>0.2) suggest that sidement will start to move earlier than shields predicted"
   ]
  },
  {
   "cell_type": "code",
   "execution_count": 42,
   "id": "852bde8c-eeed-49a0-a191-aa70978aa6d2",
   "metadata": {},
   "outputs": [],
   "source": [
    "def calculate_Sleath(rhof, ustar, omega, drho, g):\n",
    "    S = (rhof * ustar * omega) / (drho * g)\n",
    "    if S < 0.2:\n",
    "        print('sediment movement predicted by Shields')\n",
    "    else:\n",
    "        print('sediment start to move earlier than prediced by shields')\n",
    "    return S"
   ]
  },
  {
   "cell_type": "code",
   "execution_count": 43,
   "id": "c23d4cda-d329-4b0d-86b8-0cef6cb66f64",
   "metadata": {},
   "outputs": [
    {
     "name": "stdout",
     "output_type": "stream",
     "text": [
      "sediment movement predicted by Shields\n",
      "Sleath = 0.0042\n"
     ]
    }
   ],
   "source": [
    "S = calculate_Sleath(rhof, ustar, omega, drho, g)\n",
    "print(f\"Sleath = {S:.4f}\")"
   ]
  },
  {
   "cell_type": "markdown",
   "id": "edd4461f-1725-427a-9e11-5bf53496b573",
   "metadata": {},
   "source": [
    "### Mobility Number\n",
    "$$\n",
    "\\Phi = \\frac{u_b^2}{(s-1)gd_{50}}\n",
    "$$\n",
    "where $U_b = a\\pi/T$ is the wave orbital velocity amplitude, $2a$ is the wave orbital excretion, $s$ is the specific sediment density (about 2.65). The critical value of the mobility parameter based on flume experiments is $\\Phi\\approx 8$."
   ]
  },
  {
   "cell_type": "code",
   "execution_count": 44,
   "id": "fc107dbd-5ca4-4de9-a6e8-1235101c9f98",
   "metadata": {},
   "outputs": [],
   "source": [
    "def calculate_Phi(ub, sdense, D50):\n",
    "    g = 9.81\n",
    "    Phi = (ub ** 2) / ((sdense - 1) * g * D50)\n",
    "    if Phi >= 8:\n",
    "        print('critical value exceeded')\n",
    "    else:\n",
    "        print('critical value not exceeded')\n",
    "    return Phi"
   ]
  },
  {
   "cell_type": "code",
   "execution_count": 45,
   "id": "ebe4cedc-1e6d-4e93-bcfd-e6523ae54c52",
   "metadata": {},
   "outputs": [
    {
     "name": "stdout",
     "output_type": "stream",
     "text": [
      "critical value exceeded\n",
      "Phi = 82.8258\n"
     ]
    }
   ],
   "source": [
    "Phi = calculate_Phi(ubb_max, sdense, D50)\n",
    "print(f\"Phi = {Phi:.4f}\")"
   ]
  },
  {
   "cell_type": "markdown",
   "id": "349ddc2d-7d56-43d8-be64-193a5518a872",
   "metadata": {},
   "source": [
    "### Bagnold Number \n",
    "Assuming $C=1$:\n",
    "$$\n",
    "q = C\\frac{\\rho}{g}\\sqrt{\\frac{d_{50}}{D}}u_*^3\n",
    "$$\n",
    "\n",
    "where $q$ represents the mass transport of sand across a lane of unit width, $C$ is a dimensionless constant of order unity that depends on the sand sorting, $D$ is the nearly uniform grain size originally used in Bagnold's experiments (250 microm), and $u_*$ is frictional velcoity propotional to the square root of the shear stresses between the flow and the sheet of moving sand."
   ]
  },
  {
   "cell_type": "code",
   "execution_count": 46,
   "id": "97aed0bf-7ab4-49bb-aed7-d68e6fd2fb31",
   "metadata": {},
   "outputs": [],
   "source": [
    "def calculate_q(C, rhof, D50, Dbag, ustar):\n",
    "    g = 9.81\n",
    "    q = C * rhof / g * math.sqrt(D50 / Dbag) * ustar ** 3\n",
    "    return q"
   ]
  },
  {
   "cell_type": "code",
   "execution_count": 47,
   "id": "2b92779c-102e-49d1-a432-6b4379aa733f",
   "metadata": {},
   "outputs": [
    {
     "name": "stdout",
     "output_type": "stream",
     "text": [
      "q = 0.0010\n"
     ]
    }
   ],
   "source": [
    "C = 1\n",
    "Dbag = 0.00025\n",
    "q = calculate_q(C, rhof, D50, Dbag, ustar)\n",
    "print(f\"q = {q:.4f}\")"
   ]
  },
  {
   "cell_type": "markdown",
   "id": "db343a2a-4d7f-465f-999e-14f667d278dd",
   "metadata": {},
   "source": [
    "## Other Scaling"
   ]
  },
  {
   "cell_type": "markdown",
   "id": "bd00439b-8af9-4ebf-967a-2a5559448409",
   "metadata": {},
   "source": [
    "### Roughness/sheet-flow thickness length\n",
    "Roughness length \n",
    "$$\n",
    "k_s = 5 \\theta d_{50}\n",
    "$$\n",
    "Sheet-flow thickness length\n",
    "$$\n",
    "\\delta_s = 10 \\theta d_{50}\n",
    "$$"
   ]
  },
  {
   "cell_type": "markdown",
   "id": "33ee24c6-fffb-4e7c-9b85-34fc22dd30dc",
   "metadata": {},
   "source": [
    "### Archamedes number\n",
    "$$\n",
    "Ar = \\frac{g L^3 (\\rho - \\rho_l)/\\rho_l}{\\nu^2} = \\frac{g L^3 \\rho_l (\\rho - \\rho_l)}{\\mu^2}\n",
    "$$\n",
    "$L$ is a characteristic length, $(\\rho - \\rho_l)/\\rho_l$ is the submerged specific gravity"
   ]
  },
  {
   "cell_type": "markdown",
   "id": "f69def98-0e9d-4ca5-a45d-f91410ccbcb0",
   "metadata": {},
   "source": [
    "### Bond number\n",
    "$$\n",
    "Bo = \\frac{\\Delta \\rho g L^2}{\\gamma} \n",
    "$$\n",
    "where $L$ is a characteristic length and $\\gamma$ is surface tension.\n",
    "\n",
    "$$\n",
    "Bo = \\frac{L}{\\lambda_c}^2\n",
    "$$\n",
    "where $\\lambda_c = \\sqrt{\\gamma/\\rho g}$"
   ]
  },
  {
   "cell_type": "code",
   "execution_count": null,
   "id": "e1c6e75f-70b9-47f6-b250-d788af2ba880",
   "metadata": {},
   "outputs": [],
   "source": []
  }
 ],
 "metadata": {
  "kernelspec": {
   "display_name": "Python 3 (ipykernel)",
   "language": "python",
   "name": "python3"
  },
  "language_info": {
   "codemirror_mode": {
    "name": "ipython",
    "version": 3
   },
   "file_extension": ".py",
   "mimetype": "text/x-python",
   "name": "python",
   "nbconvert_exporter": "python",
   "pygments_lexer": "ipython3",
   "version": "3.9.17"
  }
 },
 "nbformat": 4,
 "nbformat_minor": 5
}
